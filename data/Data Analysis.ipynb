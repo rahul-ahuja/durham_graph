{
 "cells": [
  {
   "cell_type": "code",
   "execution_count": 1,
   "id": "19e1df88",
   "metadata": {},
   "outputs": [],
   "source": [
    "### importing packages\n",
    "\n",
    "import csv\n",
    "import pandas as pd\n",
    "import igraph\n",
    "from neo4j import GraphDatabase\n",
    "import matplotlib.pyplot as plt\n",
    "import os\n"
   ]
  },
  {
   "cell_type": "code",
   "execution_count": 2,
   "id": "c1746fa3",
   "metadata": {},
   "outputs": [
    {
     "data": {
      "text/html": [
       "<div>\n",
       "<style scoped>\n",
       "    .dataframe tbody tr th:only-of-type {\n",
       "        vertical-align: middle;\n",
       "    }\n",
       "\n",
       "    .dataframe tbody tr th {\n",
       "        vertical-align: top;\n",
       "    }\n",
       "\n",
       "    .dataframe thead th {\n",
       "        text-align: right;\n",
       "    }\n",
       "</style>\n",
       "<table border=\"1\" class=\"dataframe\">\n",
       "  <thead>\n",
       "    <tr style=\"text-align: right;\">\n",
       "      <th></th>\n",
       "      <th>node_id</th>\n",
       "      <th>name</th>\n",
       "      <th>metro_pop</th>\n",
       "      <th>latitude</th>\n",
       "      <th>longitude</th>\n",
       "    </tr>\n",
       "  </thead>\n",
       "  <tbody>\n",
       "    <tr>\n",
       "      <th>0</th>\n",
       "      <td>0</td>\n",
       "      <td>Abbotsford, BC</td>\n",
       "      <td>133497.0</td>\n",
       "      <td>49.051575</td>\n",
       "      <td>-122.328849</td>\n",
       "    </tr>\n",
       "    <tr>\n",
       "      <th>1</th>\n",
       "      <td>1</td>\n",
       "      <td>Aberdeen, SD</td>\n",
       "      <td>40878.0</td>\n",
       "      <td>45.459090</td>\n",
       "      <td>-98.487324</td>\n",
       "    </tr>\n",
       "    <tr>\n",
       "      <th>2</th>\n",
       "      <td>2</td>\n",
       "      <td>Abilene, TX</td>\n",
       "      <td>166416.0</td>\n",
       "      <td>32.449175</td>\n",
       "      <td>-99.741424</td>\n",
       "    </tr>\n",
       "    <tr>\n",
       "      <th>3</th>\n",
       "      <td>3</td>\n",
       "      <td>Akron/Canton, OH</td>\n",
       "      <td>701456.0</td>\n",
       "      <td>40.797810</td>\n",
       "      <td>-81.371567</td>\n",
       "    </tr>\n",
       "    <tr>\n",
       "      <th>4</th>\n",
       "      <td>4</td>\n",
       "      <td>Alamosa, CO</td>\n",
       "      <td>9433.0</td>\n",
       "      <td>37.468180</td>\n",
       "      <td>-105.873599</td>\n",
       "    </tr>\n",
       "    <tr>\n",
       "      <th>...</th>\n",
       "      <td>...</td>\n",
       "      <td>...</td>\n",
       "      <td>...</td>\n",
       "      <td>...</td>\n",
       "      <td>...</td>\n",
       "    </tr>\n",
       "    <tr>\n",
       "      <th>451</th>\n",
       "      <td>451</td>\n",
       "      <td>Winnipeg, MB</td>\n",
       "      <td>672129.0</td>\n",
       "      <td>49.899425</td>\n",
       "      <td>-97.140739</td>\n",
       "    </tr>\n",
       "    <tr>\n",
       "      <th>452</th>\n",
       "      <td>452</td>\n",
       "      <td>Worland, WY</td>\n",
       "      <td>5454.0</td>\n",
       "      <td>44.016835</td>\n",
       "      <td>-107.955114</td>\n",
       "    </tr>\n",
       "    <tr>\n",
       "      <th>453</th>\n",
       "      <td>453</td>\n",
       "      <td>Yakima, WA</td>\n",
       "      <td>247141.0</td>\n",
       "      <td>46.604135</td>\n",
       "      <td>-120.507049</td>\n",
       "    </tr>\n",
       "    <tr>\n",
       "      <th>454</th>\n",
       "      <td>454</td>\n",
       "      <td>Yellowknife, NT</td>\n",
       "      <td>17863.0</td>\n",
       "      <td>62.454320</td>\n",
       "      <td>-114.371254</td>\n",
       "    </tr>\n",
       "    <tr>\n",
       "      <th>455</th>\n",
       "      <td>455</td>\n",
       "      <td>Yuma, AZ</td>\n",
       "      <td>200870.0</td>\n",
       "      <td>32.684850</td>\n",
       "      <td>-114.624614</td>\n",
       "    </tr>\n",
       "  </tbody>\n",
       "</table>\n",
       "<p>456 rows × 5 columns</p>\n",
       "</div>"
      ],
      "text/plain": [
       "     node_id              name  metro_pop   latitude   longitude\n",
       "0          0    Abbotsford, BC   133497.0  49.051575 -122.328849\n",
       "1          1      Aberdeen, SD    40878.0  45.459090  -98.487324\n",
       "2          2       Abilene, TX   166416.0  32.449175  -99.741424\n",
       "3          3  Akron/Canton, OH   701456.0  40.797810  -81.371567\n",
       "4          4       Alamosa, CO     9433.0  37.468180 -105.873599\n",
       "..       ...               ...        ...        ...         ...\n",
       "451      451      Winnipeg, MB   672129.0  49.899425  -97.140739\n",
       "452      452       Worland, WY     5454.0  44.016835 -107.955114\n",
       "453      453        Yakima, WA   247141.0  46.604135 -120.507049\n",
       "454      454   Yellowknife, NT    17863.0  62.454320 -114.371254\n",
       "455      455          Yuma, AZ   200870.0  32.684850 -114.624614\n",
       "\n",
       "[456 rows x 5 columns]"
      ]
     },
     "execution_count": 2,
     "metadata": {},
     "output_type": "execute_result"
    }
   ],
   "source": [
    "nodes_df = pd.read_csv('reachability-meta.csv')\n",
    "nodes_df"
   ]
  },
  {
   "cell_type": "code",
   "execution_count": 30,
   "id": "b1a0e845",
   "metadata": {},
   "outputs": [
    {
     "data": {
      "text/html": [
       "<div>\n",
       "<style scoped>\n",
       "    .dataframe tbody tr th:only-of-type {\n",
       "        vertical-align: middle;\n",
       "    }\n",
       "\n",
       "    .dataframe tbody tr th {\n",
       "        vertical-align: top;\n",
       "    }\n",
       "\n",
       "    .dataframe thead th {\n",
       "        text-align: right;\n",
       "    }\n",
       "</style>\n",
       "<table border=\"1\" class=\"dataframe\">\n",
       "  <thead>\n",
       "    <tr style=\"text-align: right;\">\n",
       "      <th></th>\n",
       "      <th>Departure City</th>\n",
       "      <th>Destination City</th>\n",
       "      <th>Time travelled</th>\n",
       "    </tr>\n",
       "  </thead>\n",
       "  <tbody>\n",
       "    <tr>\n",
       "      <th>0</th>\n",
       "      <td>27</td>\n",
       "      <td>0</td>\n",
       "      <td>757</td>\n",
       "    </tr>\n",
       "    <tr>\n",
       "      <th>1</th>\n",
       "      <td>57</td>\n",
       "      <td>0</td>\n",
       "      <td>84</td>\n",
       "    </tr>\n",
       "    <tr>\n",
       "      <th>2</th>\n",
       "      <td>70</td>\n",
       "      <td>0</td>\n",
       "      <td>1290</td>\n",
       "    </tr>\n",
       "    <tr>\n",
       "      <th>3</th>\n",
       "      <td>74</td>\n",
       "      <td>0</td>\n",
       "      <td>465</td>\n",
       "    </tr>\n",
       "    <tr>\n",
       "      <th>4</th>\n",
       "      <td>86</td>\n",
       "      <td>0</td>\n",
       "      <td>700</td>\n",
       "    </tr>\n",
       "    <tr>\n",
       "      <th>...</th>\n",
       "      <td>...</td>\n",
       "      <td>...</td>\n",
       "      <td>...</td>\n",
       "    </tr>\n",
       "    <tr>\n",
       "      <th>71954</th>\n",
       "      <td>419</td>\n",
       "      <td>455</td>\n",
       "      <td>154</td>\n",
       "    </tr>\n",
       "    <tr>\n",
       "      <th>71955</th>\n",
       "      <td>428</td>\n",
       "      <td>455</td>\n",
       "      <td>341</td>\n",
       "    </tr>\n",
       "    <tr>\n",
       "      <th>71956</th>\n",
       "      <td>434</td>\n",
       "      <td>455</td>\n",
       "      <td>403</td>\n",
       "    </tr>\n",
       "    <tr>\n",
       "      <th>71957</th>\n",
       "      <td>440</td>\n",
       "      <td>455</td>\n",
       "      <td>680</td>\n",
       "    </tr>\n",
       "    <tr>\n",
       "      <th>71958</th>\n",
       "      <td>444</td>\n",
       "      <td>455</td>\n",
       "      <td>265</td>\n",
       "    </tr>\n",
       "  </tbody>\n",
       "</table>\n",
       "<p>71959 rows × 3 columns</p>\n",
       "</div>"
      ],
      "text/plain": [
       "       Departure City  Destination City  Time travelled\n",
       "0                  27                 0             757\n",
       "1                  57                 0              84\n",
       "2                  70                 0            1290\n",
       "3                  74                 0             465\n",
       "4                  86                 0             700\n",
       "...               ...               ...             ...\n",
       "71954             419               455             154\n",
       "71955             428               455             341\n",
       "71956             434               455             403\n",
       "71957             440               455             680\n",
       "71958             444               455             265\n",
       "\n",
       "[71959 rows x 3 columns]"
      ]
     },
     "execution_count": 30,
     "metadata": {},
     "output_type": "execute_result"
    }
   ],
   "source": [
    "edges_df = pd.read_csv('reachability.csv', header=None)\n",
    "edges_df.columns = ['Departure City', 'Destination City', 'Time travelled']\n",
    "edges_df"
   ]
  },
  {
   "cell_type": "code",
   "execution_count": 3,
   "id": "52efff17",
   "metadata": {},
   "outputs": [],
   "source": [
    "# Load using igraph's pickle method\n",
    "loaded_graph = igraph.Graph.Read_Pickle('../graph_dir/graph_igraph.pkl')"
   ]
  },
  {
   "cell_type": "markdown",
   "id": "3e97f2c7",
   "metadata": {},
   "source": [
    "## Degree Centrality"
   ]
  },
  {
   "cell_type": "code",
   "execution_count": 11,
   "id": "48b0025b",
   "metadata": {},
   "outputs": [
    {
     "data": {
      "image/png": "[encoded data removed]",
      "text/plain": [
       "<Figure size 640x480 with 1 Axes>"
      ]
     },
     "metadata": {},
     "output_type": "display_data"
    }
   ],
   "source": [
    "plt.hist(loaded_graph.degree())\n",
    "plt.xlabel('Node degree centrality')\n",
    "plt.ylabel('Frequency')\n",
    "plt.title('Histogram of degree centrality')\n",
    "plt.show()"
   ]
  },
  {
   "cell_type": "code",
   "execution_count": 39,
   "id": "6b048223",
   "metadata": {},
   "outputs": [
    {
     "name": "stdout",
     "output_type": "stream",
     "text": [
      "[('Los Angeles, CA', 886), ('San Francisco, CA', 871), ('Las Vegas, NV', 861), ('Chicago, IL', 859), ('Dallas/Fort Worth, TX', 859), ('Denver, CO', 856), ('New York, NY', 856), ('Washington, DC', 852), ('Phoenix, AZ', 847), ('Seattle/Tacoma, WA', 824)]\n"
     ]
    }
   ],
   "source": [
    "# Below are the nodes with most connections in the graph\n",
    "degree = list(zip(loaded_graph.vs['city_names'], loaded_graph.degree()))\n",
    "sorted_degree = sorted(degree, key=lambda x: x[1], reverse=True)\n",
    "print(sorted_degree[:10])"
   ]
  },
  {
   "cell_type": "markdown",
   "id": "2e8aed74",
   "metadata": {},
   "source": [
    "### Betweeness Centrality"
   ]
  },
  {
   "cell_type": "code",
   "execution_count": 6,
   "id": "093d305f",
   "metadata": {},
   "outputs": [],
   "source": [
    "betweenness_weighted = loaded_graph.betweenness(weights=loaded_graph.es['travel_time'])"
   ]
  },
  {
   "cell_type": "code",
   "execution_count": 7,
   "id": "886a30af",
   "metadata": {},
   "outputs": [
    {
     "name": "stdout",
     "output_type": "stream",
     "text": [
      "[('Denver, CO', 36898.666666666664), ('Minneapolis/St Paul, MN', 34685.33333333333), ('Chicago, IL', 19676.41666666667), ('Atlanta, GA', 17996.16666666667), ('Dallas/Fort Worth, TX', 15734.916666666668), ('Pittsburgh, PA', 12671.5), ('Seattle/Tacoma, WA', 12195.166666666668), ('St. Louis, MO', 11847.166666666668), ('Toronto, ON', 11771.666666666666), ('Montreal, QC', 11161.666666666668)]\n"
     ]
    }
   ],
   "source": [
    "# Below are the top 10 nodes with most connections in the graph\n",
    "betweenness = list(zip(loaded_graph.vs['city_names'], betweenness_weighted))\n",
    "sorted_betweenness = sorted(betweenness, key=lambda x: x[1], reverse=True)\n",
    "print(sorted_betweenness[:10])"
   ]
  },
  {
   "cell_type": "code",
   "execution_count": 13,
   "id": "fbdfd12a",
   "metadata": {},
   "outputs": [
    {
     "data": {
      "image/png": "[encoded data removed]",
      "text/plain": [
       "<Figure size 640x480 with 1 Axes>"
      ]
     },
     "metadata": {},
     "output_type": "display_data"
    }
   ],
   "source": [
    "plt.hist(betweenness_weighted)\n",
    "plt.xlabel('Betweenness centrality')\n",
    "plt.ylabel('Frequency')\n",
    "plt.title('Histogram of betweeness centrality')\n",
    "plt.show()"
   ]
  },
  {
   "cell_type": "code",
   "execution_count": null,
   "id": "26b7f296",
   "metadata": {},
   "outputs": [],
   "source": []
  },
  {
   "cell_type": "markdown",
   "id": "60b92899",
   "metadata": {},
   "source": [
    "## Number of Connected Components\n",
    "### There's only one cluster in the graph. All the nodes have connectivity with each other in the graph"
   ]
  },
  {
   "cell_type": "code",
   "execution_count": 5,
   "id": "48057798",
   "metadata": {},
   "outputs": [
    {
     "name": "stdout",
     "output_type": "stream",
     "text": [
      "Clustering with 456 elements and 1 clusters\n",
      "[0] 0, 1, 2, 3, 4, 5, 6, 7, 8, 9, 10, 11, 12, 13, 14, 15, 16, 17, 18, 19, 20,\n",
      "    21, 22, 23, 24, 25, 26, 27, 28, 29, 30, 31, 32, 33, 34, 35, 36, 37, 38,\n",
      "    39, 40, 41, 42, 43, 44, 45, 46, 47, 48, 49, 50, 51, 52, 53, 54, 55, 56,\n",
      "    57, 58, 59, 60, 61, 62, 63, 64, 65, 66, 67, 68, 69, 70, 71, 72, 73, 74,\n",
      "    75, 76, 77, 78, 79, 80, 81, 82, 83, 84, 85, 86, 87, 88, 89, 90, 91, 92,\n",
      "    93, 94, 95, 96, 97, 98, 99, 100, 101, 102, 103, 104, 105, 106, 107, 108,\n",
      "    109, 110, 111, 112, 113, 114, 115, 116, 117, 118, 119, 120, 121, 122, 123,\n",
      "    124, 125, 126, 127, 128, 129, 130, 131, 132, 133, 134, 135, 136, 137, 138,\n",
      "    139, 140, 141, 142, 143, 144, 145, 146, 147, 148, 149, 150, 151, 152, 153,\n",
      "    154, 155, 156, 157, 158, 159, 160, 161, 162, 163, 164, 165, 166, 167, 168,\n",
      "    169, 170, 171, 172, 173, 174, 175, 176, 177, 178, 179, 180, 181, 182, 183,\n",
      "    184, 185, 186, 187, 188, 189, 190, 191, 192, 193, 194, 195, 196, 197, 198,\n",
      "    199, 200, 201, 202, 203, 204, 205, 206, 207, 208, 209, 210, 211, 212, 213,\n",
      "    214, 215, 216, 217, 218, 219, 220, 221, 222, 223, 224, 225, 226, 227, 228,\n",
      "    229, 230, 231, 232, 233, 234, 235, 236, 237, 238, 239, 240, 241, 242, 243,\n",
      "    244, 245, 246, 247, 248, 249, 250, 251, 252, 253, 254, 255, 256, 257, 258,\n",
      "    259, 260, 261, 262, 263, 264, 265, 266, 267, 268, 269, 270, 271, 272, 273,\n",
      "    274, 275, 276, 277, 278, 279, 280, 281, 282, 283, 284, 285, 286, 287, 288,\n",
      "    289, 290, 291, 292, 293, 294, 295, 296, 297, 298, 299, 300, 301, 302, 303,\n",
      "    304, 305, 306, 307, 308, 309, 310, 311, 312, 313, 314, 315, 316, 317, 318,\n",
      "    319, 320, 321, 322, 323, 324, 325, 326, 327, 328, 329, 330, 331, 332, 333,\n",
      "    334, 335, 336, 337, 338, 339, 340, 341, 342, 343, 344, 345, 346, 347, 348,\n",
      "    349, 350, 351, 352, 353, 354, 355, 356, 357, 358, 359, 360, 361, 362, 363,\n",
      "    364, 365, 366, 367, 368, 369, 370, 371, 372, 373, 374, 375, 376, 377, 378,\n",
      "    379, 380, 381, 382, 383, 384, 385, 386, 387, 388, 389, 390, 391, 392, 393,\n",
      "    394, 395, 396, 397, 398, 399, 400, 401, 402, 403, 404, 405, 406, 407, 408,\n",
      "    409, 410, 411, 412, 413, 414, 415, 416, 417, 418, 419, 420, 421, 422, 423,\n",
      "    424, 425, 426, 427, 428, 429, 430, 431, 432, 433, 434, 435, 436, 437, 438,\n",
      "    439, 440, 441, 442, 443, 444, 445, 446, 447, 448, 449, 450, 451, 452, 453,\n",
      "    454, 455\n"
     ]
    }
   ],
   "source": [
    "connected_components = loaded_graph.connected_components()\n",
    "print(connected_components) "
   ]
  },
  {
   "cell_type": "code",
   "execution_count": null,
   "id": "8a9acef8",
   "metadata": {},
   "outputs": [],
   "source": []
  },
  {
   "cell_type": "markdown",
   "id": "043e10ca",
   "metadata": {},
   "source": [
    "### Community Detection"
   ]
  },
  {
   "cell_type": "code",
   "execution_count": 9,
   "id": "c0810086",
   "metadata": {},
   "outputs": [
    {
     "name": "stdout",
     "output_type": "stream",
     "text": [
      "The number of the communities in the graph 3\n"
     ]
    }
   ],
   "source": [
    "g_u = loaded_graph.as_undirected() #converting directed graph as undirected\n",
    "community_membership = g_u.community_multilevel()\n",
    "print(f'The number of the communities in the graph {len(community_membership)}')"
   ]
  },
  {
   "cell_type": "code",
   "execution_count": 11,
   "id": "1aa2e78e",
   "metadata": {},
   "outputs": [
    {
     "name": "stdout",
     "output_type": "stream",
     "text": [
      "Community: 0, size: 166\n",
      "Community: 1, size: 131\n",
      "Community: 2, size: 159\n"
     ]
    }
   ],
   "source": [
    "for i, community in enumerate(community_membership):\n",
    "    size = len(community)\n",
    "    print(f'Community: {i}, size: {size}')"
   ]
  },
  {
   "cell_type": "code",
   "execution_count": 15,
   "id": "c33a8829",
   "metadata": {},
   "outputs": [
    {
     "name": "stdout",
     "output_type": "stream",
     "text": [
      "The node IDs wihtin the smallest community: [1, 4, 7, 10, 13, 14, 17, 23, 27, 36, 38, 41, 45, 46, 47, 49, 53, 56, 60, 62, 63, 64, 68, 72, 75, 78, 79, 80, 82, 86, 91, 93, 103, 104, 106, 111, 112, 114, 115, 116, 118, 121, 122, 125, 126, 133, 134, 145, 147, 149, 151, 152, 156, 164, 167, 171, 172, 173, 176, 182, 184, 185, 186, 192, 193, 195, 202, 204, 206, 221, 224, 228, 236, 238, 239, 240, 243, 257, 260, 261, 266, 271, 273, 278, 281, 283, 290, 293, 300, 301, 302, 304, 307, 311, 313, 316, 318, 325, 328, 329, 337, 344, 345, 346, 349, 351, 356, 360, 366, 369, 370, 372, 373, 374, 382, 389, 394, 398, 399, 404, 409, 412, 419, 422, 424, 435, 437, 444, 448, 452, 455]\n"
     ]
    }
   ],
   "source": [
    "smallest_community = sorted(list(community_membership), key=len)[0]\n",
    "print(f'The node IDs wihtin the smallest community: {smallest_community}')"
   ]
  },
  {
   "cell_type": "code",
   "execution_count": 23,
   "id": "c727475d",
   "metadata": {},
   "outputs": [
    {
     "data": {
      "text/plain": [
       "igraph.Vertex(<igraph.Graph object at 0x117e54350>, 1, {'city_names': 'Aberdeen, SD', 'city_ids': 1})"
      ]
     },
     "execution_count": 23,
     "metadata": {},
     "output_type": "execute_result"
    }
   ],
   "source": [
    "smallest_community_nodes = loaded_graph.vs[smallest_community]\n",
    "smallest_community_nodes[0]"
   ]
  },
  {
   "cell_type": "markdown",
   "id": "b92cc484",
   "metadata": {},
   "source": [
    "### Making use of the Neo4j Database Graph "
   ]
  },
  {
   "cell_type": "code",
   "execution_count": 33,
   "id": "34c0b41d",
   "metadata": {},
   "outputs": [],
   "source": []
  },
  {
   "cell_type": "code",
   "execution_count": 4,
   "id": "80e128e7",
   "metadata": {},
   "outputs": [],
   "source": [
    "# Initialize the Neo4j driver using the retrieved credentials\n",
    "driver = GraphDatabase.driver(uri='bolt://localhost:7687', auth=('neo4j', 'password'))\n",
    "\n",
    "\n",
    "session = driver.session()"
   ]
  },
  {
   "cell_type": "code",
   "execution_count": null,
   "id": "9ab269f5",
   "metadata": {},
   "outputs": [],
   "source": [
    "query = \"\"\"LOAD CSV WITH HEADERS from 'file:///reachability-meta.csv' as row\n",
    "CREATE (city:City {\n",
    "    node_id: toInteger(row.node_id),\n",
    "    name: row.name,\n",
    "    population: toInteger(row.metro_pop),\n",
    "    latitude: toFloat(row.latitude),\n",
    "    longitude: toFloat(row.longitude)\n",
    "})\n",
    "\"\"\"\n",
    "#result = session.run(query)"
   ]
  },
  {
   "cell_type": "code",
   "execution_count": null,
   "id": "e68697af",
   "metadata": {},
   "outputs": [],
   "source": [
    "query = \"\"\"LOAD CSV from 'file:///reachability.csv' as row\n",
    "MATCH (from:City {node_id: toInteger(row[0])})\n",
    "MATCH (to:City {node_id: toInteger(row[1])})\n",
    "MERGE (from)-[:AIR_TRAVEL {travel_time: toInteger(row[2])}]-(to)\n",
    "\"\"\"\n",
    "#result = session.run(query)"
   ]
  },
  {
   "cell_type": "code",
   "execution_count": 5,
   "id": "9ef36aea",
   "metadata": {},
   "outputs": [
    {
     "name": "stdout",
     "output_type": "stream",
     "text": [
      "[{'n.name': 'Calgary, AB', 'm.name': 'Abbotsford, BC', 'r.travel_time': 84}]\n"
     ]
    }
   ],
   "source": [
    "edge_test = [57, 0]\n",
    "cypher = f'MATCH (n:City {{node_id:{edge_test[0]}}})' \\\n",
    "          '-[r:AIR_TRAVEL]->' \\\n",
    "         f'(m:City {{node_id:{edge_test[1]}}}) ' \\\n",
    "          'RETURN n.name, m.name, r.travel_time'\n",
    "#print(cypher)\n",
    "\n",
    "result = session.run(cypher)\n",
    "print(result.data())"
   ]
  },
  {
   "cell_type": "code",
   "execution_count": 6,
   "id": "7af5dee6",
   "metadata": {},
   "outputs": [],
   "source": [
    "#City with Largest population"
   ]
  },
  {
   "cell_type": "code",
   "execution_count": 7,
   "id": "7a8fde13",
   "metadata": {},
   "outputs": [
    {
     "name": "stdout",
     "output_type": "stream",
     "text": [
      "[{'n.name': 'New York, NY', 'n.population': 19020000}]\n"
     ]
    }
   ],
   "source": [
    "cypher = 'MATCH (n) ' \\\n",
    "         'RETURN n.name, n.population ' \\\n",
    "         'ORDER BY n.population ' \\\n",
    "         'DESC LIMIT 1'\n",
    "result = session.run(cypher).data()\n",
    "print(result)"
   ]
  },
  {
   "cell_type": "code",
   "execution_count": 8,
   "id": "10e8b602",
   "metadata": {},
   "outputs": [],
   "source": [
    "#What cities can be travelled from NY under 100 mins"
   ]
  },
  {
   "cell_type": "code",
   "execution_count": 9,
   "id": "f8b25c75",
   "metadata": {},
   "outputs": [
    {
     "data": {
      "text/html": [
       "<div>\n",
       "<style scoped>\n",
       "    .dataframe tbody tr th:only-of-type {\n",
       "        vertical-align: middle;\n",
       "    }\n",
       "\n",
       "    .dataframe tbody tr th {\n",
       "        vertical-align: top;\n",
       "    }\n",
       "\n",
       "    .dataframe thead th {\n",
       "        text-align: right;\n",
       "    }\n",
       "</style>\n",
       "<table border=\"1\" class=\"dataframe\">\n",
       "  <thead>\n",
       "    <tr style=\"text-align: right;\">\n",
       "      <th></th>\n",
       "      <th>m.name</th>\n",
       "    </tr>\n",
       "  </thead>\n",
       "  <tbody>\n",
       "    <tr>\n",
       "      <th>0</th>\n",
       "      <td>Manchester, NH</td>\n",
       "    </tr>\n",
       "    <tr>\n",
       "      <th>1</th>\n",
       "      <td>Ottawa, ON</td>\n",
       "    </tr>\n",
       "    <tr>\n",
       "      <th>2</th>\n",
       "      <td>Nantucket, MA</td>\n",
       "    </tr>\n",
       "    <tr>\n",
       "      <th>3</th>\n",
       "      <td>Montreal, QC</td>\n",
       "    </tr>\n",
       "    <tr>\n",
       "      <th>4</th>\n",
       "      <td>Norfolk/Virginia Beach/Williamsburg, VA</td>\n",
       "    </tr>\n",
       "    <tr>\n",
       "      <th>5</th>\n",
       "      <td>Albany, NY</td>\n",
       "    </tr>\n",
       "    <tr>\n",
       "      <th>6</th>\n",
       "      <td>Syracuse, NY</td>\n",
       "    </tr>\n",
       "    <tr>\n",
       "      <th>7</th>\n",
       "      <td>Cleveland, OH</td>\n",
       "    </tr>\n",
       "    <tr>\n",
       "      <th>8</th>\n",
       "      <td>Greensboro/High Point/Winston Salem, NC</td>\n",
       "    </tr>\n",
       "    <tr>\n",
       "      <th>9</th>\n",
       "      <td>Providence, RI</td>\n",
       "    </tr>\n",
       "    <tr>\n",
       "      <th>10</th>\n",
       "      <td>Lebanon, NH</td>\n",
       "    </tr>\n",
       "    <tr>\n",
       "      <th>11</th>\n",
       "      <td>Philadelphia, PA</td>\n",
       "    </tr>\n",
       "    <tr>\n",
       "      <th>12</th>\n",
       "      <td>Quebec, QC</td>\n",
       "    </tr>\n",
       "    <tr>\n",
       "      <th>13</th>\n",
       "      <td>Akron/Canton, OH</td>\n",
       "    </tr>\n",
       "    <tr>\n",
       "      <th>14</th>\n",
       "      <td>Burlington, VT</td>\n",
       "    </tr>\n",
       "    <tr>\n",
       "      <th>15</th>\n",
       "      <td>Toronto, ON</td>\n",
       "    </tr>\n",
       "    <tr>\n",
       "      <th>16</th>\n",
       "      <td>Bangor, ME</td>\n",
       "    </tr>\n",
       "    <tr>\n",
       "      <th>17</th>\n",
       "      <td>Newport News, VA</td>\n",
       "    </tr>\n",
       "    <tr>\n",
       "      <th>18</th>\n",
       "      <td>Greenville/Spartanburg, SC</td>\n",
       "    </tr>\n",
       "    <tr>\n",
       "      <th>19</th>\n",
       "      <td>Hyannis, MA</td>\n",
       "    </tr>\n",
       "    <tr>\n",
       "      <th>20</th>\n",
       "      <td>Baltimore, MD</td>\n",
       "    </tr>\n",
       "    <tr>\n",
       "      <th>21</th>\n",
       "      <td>Portland, ME</td>\n",
       "    </tr>\n",
       "    <tr>\n",
       "      <th>22</th>\n",
       "      <td>Richmond, VA</td>\n",
       "    </tr>\n",
       "    <tr>\n",
       "      <th>23</th>\n",
       "      <td>Hartford, CT</td>\n",
       "    </tr>\n",
       "    <tr>\n",
       "      <th>24</th>\n",
       "      <td>Pittsburgh, PA</td>\n",
       "    </tr>\n",
       "    <tr>\n",
       "      <th>25</th>\n",
       "      <td>Raleigh/Durham, NC</td>\n",
       "    </tr>\n",
       "    <tr>\n",
       "      <th>26</th>\n",
       "      <td>Boston, MA</td>\n",
       "    </tr>\n",
       "    <tr>\n",
       "      <th>27</th>\n",
       "      <td>Ithaca, NY</td>\n",
       "    </tr>\n",
       "    <tr>\n",
       "      <th>28</th>\n",
       "      <td>Buffalo, NY</td>\n",
       "    </tr>\n",
       "    <tr>\n",
       "      <th>29</th>\n",
       "      <td>Washington, DC</td>\n",
       "    </tr>\n",
       "  </tbody>\n",
       "</table>\n",
       "</div>"
      ],
      "text/plain": [
       "                                     m.name\n",
       "0                            Manchester, NH\n",
       "1                                Ottawa, ON\n",
       "2                             Nantucket, MA\n",
       "3                              Montreal, QC\n",
       "4   Norfolk/Virginia Beach/Williamsburg, VA\n",
       "5                                Albany, NY\n",
       "6                              Syracuse, NY\n",
       "7                             Cleveland, OH\n",
       "8   Greensboro/High Point/Winston Salem, NC\n",
       "9                            Providence, RI\n",
       "10                              Lebanon, NH\n",
       "11                         Philadelphia, PA\n",
       "12                               Quebec, QC\n",
       "13                         Akron/Canton, OH\n",
       "14                           Burlington, VT\n",
       "15                              Toronto, ON\n",
       "16                               Bangor, ME\n",
       "17                         Newport News, VA\n",
       "18               Greenville/Spartanburg, SC\n",
       "19                              Hyannis, MA\n",
       "20                            Baltimore, MD\n",
       "21                             Portland, ME\n",
       "22                             Richmond, VA\n",
       "23                             Hartford, CT\n",
       "24                           Pittsburgh, PA\n",
       "25                       Raleigh/Durham, NC\n",
       "26                               Boston, MA\n",
       "27                               Ithaca, NY\n",
       "28                              Buffalo, NY\n",
       "29                           Washington, DC"
      ]
     },
     "execution_count": 9,
     "metadata": {},
     "output_type": "execute_result"
    }
   ],
   "source": [
    "cypher = 'MATCH (n:City {name: \"New York, NY\"}) ' \\\n",
    "         'MATCH (n)-[r:AIR_TRAVEL]->(m) ' \\\n",
    "         'WHERE r.travel_time < 100 ' \\\n",
    "         'RETURN m.name'\n",
    "result = session.run(cypher).data()\n",
    "pd.DataFrame(result)"
   ]
  },
  {
   "cell_type": "markdown",
   "id": "c1822ab5",
   "metadata": {},
   "source": [
    "## Further work\n",
    "\n",
    " 1. Integration of  Neo4j with FastAPI via Docker Compose\n",
    " 2. Set up CI/CD pipeline on Github using Github Actions workflow and AWS Cloud deployment services like Elastic Container Service or Lambda"
   ]
  },
  {
   "cell_type": "code",
   "execution_count": null,
   "id": "c521362b",
   "metadata": {},
   "outputs": [],
   "source": []
  }
 ],
 "metadata": {
  "kernelspec": {
   "display_name": "Python 3 (ipykernel)",
   "language": "python",
   "name": "python3"
  },
  "language_info": {
   "codemirror_mode": {
    "name": "ipython",
    "version": 3
   },
   "file_extension": ".py",
   "mimetype": "text/x-python",
   "name": "python",
   "nbconvert_exporter": "python",
   "pygments_lexer": "ipython3",
   "version": "3.9.19"
  }
 },
 "nbformat": 4,
 "nbformat_minor": 5
}
